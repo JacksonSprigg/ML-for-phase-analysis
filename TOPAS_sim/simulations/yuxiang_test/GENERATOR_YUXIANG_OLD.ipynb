{
 "cells": [
  {
   "cell_type": "markdown",
   "metadata": {
    "vscode": {
     "languageId": "plaintext"
    }
   },
   "source": [
    "*We will need a systematic way to sample in the fitting parameters space that go into TOPAS (Rietveld Refinement Program); this includes parameters like the relative phase fraction as a starting point.\n"
   ]
  },
  {
   "cell_type": "markdown",
   "metadata": {},
   "source": [
    " \n",
    "#### **Relationship Between Scale Factor ($ S_p $) and Relative Weight Fraction ($ W_p $ ) in Multi-phase Rietveld Refinement**\n",
    "\n",
    "Check out: **Dinnebier, Leineweber and Evans: *Rietveld Refinement: Practical Powder Diffraction Pattern Analysis using TOPAS*, 2018 (Page 53)**\n",
    "\n",
    "The relationship between the scale factor and the relative weight fraction is expressed by the following equation:\n",
    "\n",
    "$$\n",
    "W_p = \\frac{S_p \\cdot Z \\cdot M \\cdot V}{K \\cdot \\mu^*_m}\n",
    "$$\n",
    "\n",
    "Where:\n",
    "\n",
    "- $ W_p $ is the relative weight fraction of phase $ p $ in a mixture of several crystalline phases.\n",
    "- $ S_p $ is the scale factor of phase $ p $.\n",
    "- $ Z $ is the number of formula units of phase $ p $ in the unit cell.\n",
    "- $ M $ is the molecular mass of the formula unit of phase $ p $.\n",
    "- $ V $ is the volume of the unit cell in Å³ of phase $ p $.\n",
    "- $ K $ is a scaling factor that depends on the instrumental conditions and is independent of sample and phase-related parameters.\n",
    "- $ \\mu^*_m $ is the mass absorption coefficient (MAC) of the **entire sample**.\n",
    "\n",
    "---\n",
    "\n",
    "#### **Mass Absorption Coefficient (MAC) Calculation:**\n",
    "\n",
    "The mass absorption coefficient for each phase can be calculated from its linear absorption coefficient using the formula:\n",
    "\n",
    "$$\n",
    "\\text{MAC}_p = \\frac{\\text{LAC}_p}{\\rho_p}\n",
    "$$\n",
    "\n",
    "Where:\n",
    "\n",
    "- $ \\text{MAC}_p $ is the mass absorption coefficient of phase $ p $,\n",
    "- $ \\text{LAC}_p $ is the linear absorption coefficient of phase $ p $,\n",
    "- $ \\rho_p $ is the density of phase $ p $.\n",
    "\n",
    "To compute the total mass absorption coefficient $ \\mu^*_m $ of the sample, we take a weighted sum of the MAC values for all phases based on their weight fractions:\n",
    "\n",
    "$$\n",
    "\\mu^*_m = \\sum W_p \\cdot \\text{MAC}_p\n",
    "$$\n",
    "\n",
    "---\n",
    "\n",
    "So:\n",
    "\n",
    "- The scaling factor $ K $ accounts for instrument-related conditions but remains constant across phases and samples.\n",
    "- The mass absorption coefficient $ \\mu^*_m $ is constant for all phases.\n",
    "- Therefore, quantitative Rietveld refinements are usually performed without knowing $ K $ or $ \\mu^*_m $—both are predetermined in this case.\n",
    "\n",
    " "
   ]
  },
  {
   "cell_type": "markdown",
   "metadata": {},
   "source": [
    "#### Now let's compute for our 3-phase system: Corundum (Cor), Fluorite (Flu), and Zincite (Zin)\n"
   ]
  },
  {
   "cell_type": "markdown",
   "metadata": {},
   "source": [
    "#### Initial parameters"
   ]
  },
  {
   "cell_type": "code",
   "execution_count": 7,
   "metadata": {},
   "outputs": [
    {
     "name": "stdout",
     "output_type": "stream",
     "text": [
      "MAC_Cor: 31.59025698368743\n",
      "MAC_Flu: 94.71771799918768\n",
      "MAC_Zin: 48.664201581898766\n",
      "ZMV_Cor: 155464.319464\n",
      "ZMV_Flu: 50599.620876999994\n",
      "ZMV_Zin: 7699.61593\n"
     ]
    }
   ],
   "source": [
    "# ZM values\n",
    "ZM_Cor, ZM_Flu, ZM_Zin = 611.768, 312.299, 162.817\n",
    "\n",
    "# V values\n",
    "V_Cor, V_Flu, V_Zin = 254.123, 162.023, 47.290\n",
    "\n",
    "# ZMV values\n",
    "ZMV_Cor = ZM_Cor * V_Cor\n",
    "ZMV_Flu = ZM_Flu * V_Flu\n",
    "ZMV_Zin = ZM_Zin * V_Zin\n",
    "\n",
    "# LAC values\n",
    "LAC_Cor, LAC_Flu, LAC_Zin = 126.283, 303.163, 278.222\n",
    "\n",
    "# Density values\n",
    "density_Cor, density_Flu, density_Zin = 3.997530, 3.200700, 5.717180\n",
    "\n",
    "# MAC values\n",
    "MAC_Cor = LAC_Cor / density_Cor  # approximately 31.6\n",
    "MAC_Flu = LAC_Flu / density_Flu  # approximately 94.7\n",
    "MAC_Zin = LAC_Zin / density_Zin  # approximately 48.7\n",
    "\n",
    "K_external = 427.6\n",
    "\n",
    "\n",
    "print(\"MAC_Cor:\", MAC_Cor)\n",
    "print(\"MAC_Flu:\", MAC_Flu)\n",
    "print(\"MAC_Zin:\", MAC_Zin)\n",
    "\n",
    "print(\"ZMV_Cor:\", ZMV_Cor)\n",
    "print(\"ZMV_Flu:\", ZMV_Flu)\n",
    "print(\"ZMV_Zin:\", ZMV_Zin)"
   ]
  },
  {
   "cell_type": "markdown",
   "metadata": {},
   "source": [
    "#### Functions to compute scale factor with random relative weight fractions"
   ]
  },
  {
   "cell_type": "code",
   "execution_count": 8,
   "metadata": {},
   "outputs": [
    {
     "data": {
      "text/plain": [
       "((0.2547050307316389, 0.5100105056355465, 0.2352844636328146),\n",
       " 67.80315919257751,\n",
       " (1.0332241763525795e-05, 6.35652305000068e-05, 0.00019271341842980037))"
      ]
     },
     "execution_count": 8,
     "metadata": {},
     "output_type": "execute_result"
    }
   ],
   "source": [
    "import random\n",
    "import numpy as np\n",
    "\n",
    "\n",
    "# def generate_random_weight_fraction():\n",
    "#     r1 = random.uniform(0, 1)\n",
    "#     r2 = random.uniform(0, 1 - r1)\n",
    "#     r3 = 1 - r1 - r2\n",
    "#     return r1, r2, r3\n",
    "\n",
    "def generate_random_weight_fraction():\n",
    "    weights = np.random.dirichlet([1, 1, 1])\n",
    "    return weights[0], weights[1], weights[2]\n",
    "\n",
    "\n",
    "def compute_Um(weight_fraction, MAC_Cor, MAC_Flu, MAC_Zin):\n",
    "    w1, w2, w3 = weight_fraction\n",
    "    Um = w1 * MAC_Cor + w2 * MAC_Flu + w3 * MAC_Zin\n",
    "    return Um\n",
    "\n",
    "\n",
    "# Compute scale factors\n",
    "def compute_scale_factors(weight_fraction,\n",
    "                          Um,\n",
    "                          ZM_Cor, ZM_Flu, ZM_Zin,\n",
    "                          V_Cor, V_Flu, V_Zin, K):\n",
    "    w1, w2, w3 = weight_fraction\n",
    "\n",
    "    S_Cor = (w1 * K) / (ZM_Cor * V_Cor * Um)\n",
    "    S_Flu = (w2 * K) / (ZM_Flu * V_Flu * Um)\n",
    "    S_Zin = (w3 * K) / (ZM_Zin * V_Zin * Um)\n",
    "\n",
    "    return S_Cor, S_Flu, S_Zin\n",
    "\n",
    "\n",
    "weight_fraction_random = generate_random_weight_fraction()\n",
    "Um_random = compute_Um(weight_fraction_random, MAC_Cor, MAC_Flu, MAC_Zin)\n",
    "scale_factors_random = compute_scale_factors(weight_fraction_random,\n",
    "                                             Um_random,\n",
    "                                             ZM_Cor, ZM_Flu, ZM_Zin,\n",
    "                                             V_Cor, V_Flu, V_Zin, K_external)\n",
    "\n",
    "weight_fraction_random, Um_random, scale_factors_random"
   ]
  },
  {
   "cell_type": "markdown",
   "metadata": {},
   "source": [
    "#### Generate .txt file (to be included in TOPAS) : `test_ModelParams_S1.txt`"
   ]
  },
  {
   "cell_type": "code",
   "execution_count": 9,
   "metadata": {},
   "outputs": [
    {
     "data": {
      "text/html": [
       "<div>\n",
       "<style scoped>\n",
       "    .dataframe tbody tr th:only-of-type {\n",
       "        vertical-align: middle;\n",
       "    }\n",
       "\n",
       "    .dataframe tbody tr th {\n",
       "        vertical-align: top;\n",
       "    }\n",
       "\n",
       "    .dataframe thead th {\n",
       "        text-align: right;\n",
       "    }\n",
       "</style>\n",
       "<table border=\"1\" class=\"dataframe\">\n",
       "  <thead>\n",
       "    <tr style=\"text-align: right;\">\n",
       "      <th></th>\n",
       "      <th>Corundum</th>\n",
       "      <th>Fluorite</th>\n",
       "      <th>Zincite</th>\n",
       "    </tr>\n",
       "  </thead>\n",
       "  <tbody>\n",
       "    <tr>\n",
       "      <th>0</th>\n",
       "      <td>0.283019</td>\n",
       "      <td>0.091203</td>\n",
       "      <td>0.625778</td>\n",
       "    </tr>\n",
       "    <tr>\n",
       "      <th>1</th>\n",
       "      <td>0.200997</td>\n",
       "      <td>0.182942</td>\n",
       "      <td>0.616061</td>\n",
       "    </tr>\n",
       "    <tr>\n",
       "      <th>2</th>\n",
       "      <td>0.812718</td>\n",
       "      <td>0.046086</td>\n",
       "      <td>0.141196</td>\n",
       "    </tr>\n",
       "    <tr>\n",
       "      <th>3</th>\n",
       "      <td>0.510093</td>\n",
       "      <td>0.256255</td>\n",
       "      <td>0.233652</td>\n",
       "    </tr>\n",
       "    <tr>\n",
       "      <th>4</th>\n",
       "      <td>0.727288</td>\n",
       "      <td>0.231737</td>\n",
       "      <td>0.040975</td>\n",
       "    </tr>\n",
       "  </tbody>\n",
       "</table>\n",
       "</div>"
      ],
      "text/plain": [
       "   Corundum  Fluorite   Zincite\n",
       "0  0.283019  0.091203  0.625778\n",
       "1  0.200997  0.182942  0.616061\n",
       "2  0.812718  0.046086  0.141196\n",
       "3  0.510093  0.256255  0.233652\n",
       "4  0.727288  0.231737  0.040975"
      ]
     },
     "metadata": {},
     "output_type": "display_data"
    }
   ],
   "source": [
    "import pandas as pd\n",
    "\n",
    "# Create a list of scale factors for multiple runs\n",
    "num_runs = 50\n",
    "weight_fraction_results = []\n",
    "scale_factors_results = []\n",
    "\n",
    "for i in range(num_runs):\n",
    "    weight_fraction_random = generate_random_weight_fraction()\n",
    "    Um_random = compute_Um(weight_fraction_random, MAC_Cor, MAC_Flu, MAC_Zin)\n",
    "    scale_factors_random = compute_scale_factors(\n",
    "        weight_fraction_random, Um_random, ZM_Cor, ZM_Flu, ZM_Zin, V_Cor, V_Flu, V_Zin, K_external)\n",
    "\n",
    "    weight_fraction_results.append(weight_fraction_random)\n",
    "    scale_factors_results.append((i, *scale_factors_random))\n",
    "\n",
    "# print(weight_fraction_results)\n",
    "# print(scale_factors_results)\n",
    "\n",
    "# Check with dataframe\n",
    "df = pd.DataFrame(weight_fraction_results, columns=[\n",
    "                  'Corundum', 'Fluorite', 'Zincite'])\n",
    "display(df.head())"
   ]
  },
  {
   "cell_type": "markdown",
   "metadata": {},
   "source": [
    "Need to install the `mpltern` library to plot the ternary diagram."
   ]
  },
  {
   "cell_type": "code",
   "execution_count": 10,
   "metadata": {},
   "outputs": [
    {
     "data": {
      "image/png": "[encoded data removed]",
      "text/plain": [
       "<Figure size 500x500 with 1 Axes>"
      ]
     },
     "metadata": {},
     "output_type": "display_data"
    }
   ],
   "source": [
    "import matplotlib.pyplot as plt\n",
    "import mpltern\n",
    "\n",
    "# Plot using mpltern for ternary plot\n",
    "fig = plt.figure(figsize=(5, 5))\n",
    "ax = fig.add_subplot(projection='ternary')\n",
    "\n",
    "a_values, b_values, c_values = zip(*weight_fraction_results)\n",
    "\n",
    "ax.scatter(a_values, b_values, c_values)\n",
    "ax.set_tlabel('Corundum')\n",
    "ax.set_llabel('Fluorite')\n",
    "ax.set_rlabel('Zincite')\n",
    "ax.set_title('Sampled phase fractions')\n",
    "\n",
    "ax.taxis.set_label_position('tick1')\n",
    "ax.laxis.set_label_position('tick1')\n",
    "ax.raxis.set_label_position('tick1')\n",
    "ax.grid()\n",
    "\n",
    "plt.savefig(\"ternary_plot.png\", dpi=300, bbox_inches='tight')\n",
    "\n",
    "plt.show()"
   ]
  },
  {
   "cell_type": "code",
   "execution_count": 11,
   "metadata": {},
   "outputs": [],
   "source": [
    "# Writing the results to .txt file\n",
    "with open(\"test_ModelParams_S1.txt\", \"w\") as file:\n",
    "    file.write(\"#list seq_no scale_cor scale_caf scale_zin\\n{\\n\")\n",
    "    for scale_factors_result in scale_factors_results:\n",
    "        file.write(\n",
    "            f\"{scale_factors_result[0]}\\t{scale_factors_result[1]:.9f}\\t{scale_factors_result[2]:.9f}\\t{scale_factors_result[3]:.9f}\\n\")\n",
    "    file.write(\"}\\n\")\n",
    "    file.write(f\"num_runs {num_runs}\\n\")"
   ]
  }
 ],
 "metadata": {
  "kernelspec": {
   "display_name": "tf-env",
   "language": "python",
   "name": "python3"
  },
  "language_info": {
   "codemirror_mode": {
    "name": "ipython",
    "version": 3
   },
   "file_extension": ".py",
   "mimetype": "text/x-python",
   "name": "python",
   "nbconvert_exporter": "python",
   "pygments_lexer": "ipython3",
   "version": "3.10.14"
  }
 },
 "nbformat": 4,
 "nbformat_minor": 2
}
