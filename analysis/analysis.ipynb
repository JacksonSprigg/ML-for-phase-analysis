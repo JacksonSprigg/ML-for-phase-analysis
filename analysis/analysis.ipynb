{
 "cells": [
  {
   "cell_type": "markdown",
   "metadata": {},
   "source": [
    "Set Directories"
   ]
  },
  {
   "cell_type": "code",
   "execution_count": null,
   "metadata": {},
   "outputs": [],
   "source": [
    "# Set the working directory to the base of the repo\n",
    "base_dir = '/monfs01/projects/ys68/XRD_phase_analysis'\n",
    "\n",
    "# Replace with your actual data directory\n",
    "data_dir = \"/TOPAS_sim/simulations/batch_20241010_212052_NumSims10000/processed_data\"  "
   ]
  },
  {
   "cell_type": "markdown",
   "metadata": {},
   "source": [
    "Imports"
   ]
  },
  {
   "cell_type": "code",
   "execution_count": null,
   "metadata": {},
   "outputs": [],
   "source": [
    "import torch\n",
    "import numpy as np\n",
    "import pandas as pd\n",
    "import math\n",
    "import json\n",
    "import os\n",
    "\n",
    "import seaborn as sns\n",
    "import matplotlib.pyplot as plt\n",
    "from matplotlib.gridspec import GridSpec\n",
    "\n",
    "os.chdir(base_dir)\n",
    "from src.data_loading.TOPASXRD_data_loader import create_data_loaders\n",
    "import scripts.training.config_training as config_training\n",
    "\n",
    "%matplotlib inline\n",
    "plt.style.use('seaborn-v0_8')"
   ]
  },
  {
   "cell_type": "markdown",
   "metadata": {},
   "source": [
    "Load Training Data"
   ]
  },
  {
   "cell_type": "code",
   "execution_count": null,
   "metadata": {},
   "outputs": [],
   "source": [
    "# Load intensities\n",
    "intensities = np.load(os.path.join(data_dir, 'intensities.npy'))\n",
    "\n",
    "# Load weight fractions\n",
    "weight_fractions = pd.read_csv(os.path.join(data_dir, 'weight_fractions.csv'))\n",
    "\n",
    "# Load additional parameters\n",
    "additional_params = pd.read_csv(os.path.join(data_dir, 'all_params.csv'))\n",
    "\n",
    "# Load metadata\n",
    "with open(os.path.join(data_dir, 'metadata.json'), 'r') as f:\n",
    "    metadata = json.load(f)\n",
    "\n",
    "print(f\"Loaded {len(intensities)} XRD patterns\")\n",
    "print(f\"Shape of intensities array: {intensities.shape}\")"
   ]
  },
  {
   "cell_type": "markdown",
   "metadata": {},
   "source": [
    "Display three random XRD sims"
   ]
  },
  {
   "cell_type": "code",
   "execution_count": null,
   "metadata": {},
   "outputs": [],
   "source": [
    "# TODO: 2 theta to degrees instead of index\n",
    "# TODO: Add additional params?\n",
    "\n",
    "# Create a fixed color map for all phases\n",
    "all_phases = weight_fractions.columns.tolist()\n",
    "color_palette = dict(zip(all_phases, sns.color_palette(\"viridis\", len(all_phases))))\n",
    "\n",
    "def plot_xrd_pattern(intensity, index, weight_fractions, additional_params, title=None):\n",
    "    # Set up the matplotlib figure\n",
    "    fig = plt.figure(figsize=(15, 10))\n",
    "    gs = GridSpec(2, 2, width_ratios=[3, 1], height_ratios=[3, 1])\n",
    "    \n",
    "    # Plot XRD pattern\n",
    "    ax_main = fig.add_subplot(gs[0, 0])\n",
    "    ax_main.plot(range(len(intensity)), intensity, color='navy')\n",
    "    ax_main.set_xlabel('2θ (index)', fontsize=12)\n",
    "    ax_main.set_ylabel('Intensity', fontsize=12)\n",
    "    if title:\n",
    "        ax_main.set_title(title, fontsize=16)\n",
    "    \n",
    "    # Plot weight fractions as a horizontal bar chart\n",
    "    ax_weight = fig.add_subplot(gs[0, 1])\n",
    "    \n",
    "    # Create a DataFrame with all phases, filling missing values with 0\n",
    "    weight_df = pd.DataFrame({'Phase': all_phases, \n",
    "                              'Percentage': [weight_fractions.loc[index, phase] if phase in weight_fractions.columns else 0 \n",
    "                                             for phase in all_phases]})\n",
    "    \n",
    "    # Sort by the global order of phases\n",
    "    weight_df['Phase'] = pd.Categorical(weight_df['Phase'], categories=all_phases, ordered=True)\n",
    "    weight_df = weight_df.sort_values('Phase')\n",
    "    \n",
    "    # Plot the bar chart\n",
    "    sns.barplot(data=weight_df, x='Percentage', y='Phase', ax=ax_weight, hue='Phase', palette=color_palette, dodge=False, legend=False)     \n",
    "    ax_weight.set_title('Weight Fractions', fontsize=14)\n",
    "    ax_weight.set_xlabel('Percentage', fontsize=12)\n",
    "    ax_weight.set_xlim(0, 1)\n",
    "    \n",
    "    plt.tight_layout()\n",
    "    plt.show()\n",
    "\n",
    "# Plot 3 random XRD patterns with phase information\n",
    "for i in range(3):\n",
    "    random_index = np.random.randint(0, len(intensities))\n",
    "    plot_xrd_pattern(intensities[random_index], random_index, weight_fractions, additional_params, \n",
    "                     f\"XRD Pattern {random_index}\")"
   ]
  },
  {
   "cell_type": "markdown",
   "metadata": {},
   "source": [
    "Look at distributions of randomised values."
   ]
  },
  {
   "cell_type": "code",
   "execution_count": null,
   "metadata": {},
   "outputs": [],
   "source": [
    "plt.figure(figsize=(12, 6))\n",
    "weight_fractions.boxplot()\n",
    "plt.title('Distribution of Weight Fractions by Phase')\n",
    "plt.ylabel('Weight Fraction')\n",
    "plt.xticks(rotation=45)\n",
    "plt.tight_layout()\n",
    "plt.show()\n",
    "\n",
    "# Calculate and print average weight fractions\n",
    "avg_weight_fractions = weight_fractions.mean()\n",
    "print(\"Average weight fractions:\")\n",
    "print(avg_weight_fractions)"
   ]
  },
  {
   "cell_type": "code",
   "execution_count": null,
   "metadata": {},
   "outputs": [],
   "source": [
    "# TODO: Visualise the distribution of the other parameters."
   ]
  },
  {
   "cell_type": "markdown",
   "metadata": {},
   "source": [
    "Analyse a trained model\n"
   ]
  },
  {
   "cell_type": "markdown",
   "metadata": {},
   "source": [
    "Load the model"
   ]
  },
  {
   "cell_type": "code",
   "execution_count": null,
   "metadata": {},
   "outputs": [],
   "source": [
    "%%capture\n",
    "\n",
    "# Import models you want to use\n",
    "from src.models.smallFCN import smallFCN\n",
    "\n",
    "# Choose which model to load and its type\n",
    "model_path = 'trained_models/smallFCN_mae_0.2594_20241008_214038.pth'\n",
    "model = smallFCN()\n",
    "\n",
    "model.load_state_dict(torch.load(model_path))\n",
    "model.eval()"
   ]
  },
  {
   "cell_type": "markdown",
   "metadata": {},
   "source": [
    "Set inference params (Runs on the test set of the data_dir provided)"
   ]
  },
  {
   "cell_type": "code",
   "execution_count": null,
   "metadata": {},
   "outputs": [],
   "source": [
    "# Inference params\n",
    "batch_size = 32 \n",
    "num_workers = 4 "
   ]
  },
  {
   "cell_type": "code",
   "execution_count": null,
   "metadata": {},
   "outputs": [],
   "source": [
    "# Set up the device\n",
    "device = torch.device(\"cuda\" if torch.cuda.is_available() else \"cpu\")\n",
    "model = model.to(device)\n",
    "\n",
    "# Create data loaders\n",
    "_, _, test_loader = create_data_loaders(\n",
    "    data_dir,\n",
    "    batch_size,\n",
    "    num_workers\n",
    ")\n",
    "\n",
    "# Perform inference on the test set\n",
    "all_predictions = []\n",
    "all_targets = []\n",
    "\n",
    "with torch.no_grad():\n",
    "    for data, target, _ in test_loader:\n",
    "        data = data.unsqueeze(1).to(device)\n",
    "        output = model(data)\n",
    "        all_predictions.append(output.cpu().numpy())\n",
    "        all_targets.append(target.numpy())\n",
    "\n",
    "predictions = np.concatenate(all_predictions)\n",
    "targets = np.concatenate(all_targets)"
   ]
  },
  {
   "cell_type": "markdown",
   "metadata": {},
   "source": [
    "Prediction vs actual weights by phase"
   ]
  },
  {
   "cell_type": "code",
   "execution_count": null,
   "metadata": {},
   "outputs": [],
   "source": [
    "def plot_predictions_vs_actual(predictions, targets, phase_names):\n",
    "    n_phases = predictions.shape[1]\n",
    "    \n",
    "    # Calculate the number of rows and columns for the subplots\n",
    "    n_cols = min(3, n_phases)  # Maximum 3 plots per row\n",
    "    n_rows = math.ceil(n_phases / n_cols)\n",
    "    \n",
    "    fig, axes = plt.subplots(n_rows, n_cols, figsize=(6*n_cols, 5*n_rows))\n",
    "    fig.suptitle('Predicted vs Actual Weight Fractions', fontsize=16, y=1.02)\n",
    "    \n",
    "    # Set a clean, modern style\n",
    "    sns.set_style(\"whitegrid\")\n",
    "    \n",
    "    # Flatten the axes array if it's 2D\n",
    "    if n_rows > 1:\n",
    "        axes = axes.flatten()\n",
    "    \n",
    "    for i, (ax, phase) in enumerate(zip(axes, phase_names)):\n",
    "        # Create a hexbin plot for density\n",
    "        hb = ax.hexbin(targets[:, i], predictions[:, i], gridsize=20, cmap='viridis', mincnt=1)\n",
    "        \n",
    "        # Plot the diagonal line\n",
    "        ax.plot([0, 1], [0, 1], 'r--', linewidth=2, alpha=0.7, label='Ideal prediction')\n",
    "        \n",
    "        # Set labels and title\n",
    "        ax.set_xlabel('Actual Weight Fraction', fontsize=10)\n",
    "        ax.set_ylabel('Predicted Weight Fraction', fontsize=10)\n",
    "        ax.set_title(f'{phase}', fontsize=12, fontweight='bold')\n",
    "        \n",
    "        # Set limits and aspect\n",
    "        ax.set_xlim(0, 1)\n",
    "        ax.set_ylim(0, 1)\n",
    "        ax.set_aspect('equal', adjustable='box')\n",
    "        \n",
    "        # Add a colorbar\n",
    "        cb = plt.colorbar(hb, ax=ax, pad=0.02)\n",
    "        cb.set_label('Count', fontsize=8)\n",
    "        \n",
    "        # Add legend\n",
    "        ax.legend(loc='upper left', fontsize=8)\n",
    "        \n",
    "        # Adjust tick label size\n",
    "        ax.tick_params(axis='both', which='major', labelsize=8)\n",
    "    \n",
    "    # Remove any unused subplots\n",
    "    for j in range(i+1, len(axes)):\n",
    "        fig.delaxes(axes[j])\n",
    "    \n",
    "    plt.tight_layout()\n",
    "    plt.show()\n",
    "\n",
    "# Get phase names from the weight_fractions DataFrame\n",
    "phase_names = weight_fractions.columns.tolist()\n",
    "\n",
    "# Plot predictions vs actual values\n",
    "plot_predictions_vs_actual(predictions, targets, phase_names)"
   ]
  },
  {
   "cell_type": "code",
   "execution_count": null,
   "metadata": {},
   "outputs": [],
   "source": [
    "# TODO: Do some more analysis"
   ]
  },
  {
   "cell_type": "markdown",
   "metadata": {},
   "source": [
    "See how the model performs on Madsen Round Robin Samples"
   ]
  },
  {
   "cell_type": "markdown",
   "metadata": {},
   "source": [
    "Run Madsen Round Robin Samples through the model\n"
   ]
  },
  {
   "cell_type": "code",
   "execution_count": null,
   "metadata": {},
   "outputs": [],
   "source": [
    "# Function to load and process XY files\n",
    "def load_xy_file(file_path):\n",
    "    data = np.loadtxt(file_path, skiprows=1)\n",
    "    intensities = data[:, 1]  # Second column contains intensities\n",
    "    # Normalize intensities to 100\n",
    "    intensities = (intensities / np.max(intensities)) * 100\n",
    "    return intensities\n",
    "\n",
    "# Load and process XY files\n",
    "sample_dir = 'analysis/Madsen_Round_Robin_2004/samples'\n",
    "xy_files = [f for f in os.listdir(sample_dir) if f.endswith('.xy')]\n",
    "xy_files.sort()  # Sort alphabetically to match weight_fractions.csv\n",
    "\n",
    "intensities = []\n",
    "for file in xy_files:\n",
    "    intensity = load_xy_file(os.path.join(sample_dir, file))\n",
    "    intensities.append(intensity)\n",
    "\n",
    "# Convert to numpy array and reshape for the model\n",
    "intensities = np.array(intensities)\n",
    "intensities = intensities.reshape(intensities.shape[0], 1, -1)  # Add channel dimension\n",
    "\n",
    "# Convert to torch tensor\n",
    "intensities_tensor = torch.FloatTensor(intensities).to(device)\n",
    "\n",
    "# Perform inference\n",
    "model.eval()\n",
    "with torch.no_grad():\n",
    "    predictions = model(intensities_tensor)\n",
    "\n",
    "# Convert predictions to numpy array\n",
    "predictions = predictions.cpu().numpy()\n",
    "\n",
    "# Load weight fractions\n",
    "weight_fractions = pd.read_csv('analysis/Madsen_Round_Robin_2004/weight_fractions.csv')"
   ]
  },
  {
   "cell_type": "markdown",
   "metadata": {},
   "source": [
    "Plot Madsen Samples"
   ]
  },
  {
   "cell_type": "code",
   "execution_count": null,
   "metadata": {},
   "outputs": [],
   "source": [
    "def plot_xrd_patterns(intensities, file_names, predictions, weight_fractions, num_plots=11):\n",
    "    fig = plt.figure(figsize=(20, 10*num_plots))  # Increased figure height\n",
    "    gs = fig.add_gridspec(num_plots, 2, width_ratios=[2, 1], height_ratios=[1]*num_plots, hspace=0.4, wspace=0.3)\n",
    "    \n",
    "    # Color scheme\n",
    "    color_scheme = {\n",
    "        'True': '#e41a1c',\n",
    "        'Predicted': '#ffff33',\n",
    "        'Laboratory': '#377eb8',\n",
    "        'X-ray': '#4daf4a',\n",
    "        'Neutron': '#984ea3',\n",
    "        'Synchrotron': '#ff7f00'\n",
    "    }\n",
    "    \n",
    "    # Load participant data\n",
    "    participant_data = {\n",
    "        method: pd.read_csv(f'analysis/Madsen_Round_Robin_2004/{method}_weight_fractions.csv')\n",
    "        for method in ['CPD_analysis', 'X-ray', 'Neutron', 'Synchrotron']\n",
    "    }\n",
    "    \n",
    "    # Reorder the samples to move the first one to the end\n",
    "    plot_order = list(range(1, min(num_plots, len(intensities)))) + [0]\n",
    "    \n",
    "    for i, idx in enumerate(plot_order):\n",
    "        # Plot XRD pattern\n",
    "        ax_xrd = fig.add_subplot(gs[i, 0])\n",
    "        ax_xrd.plot(intensities[idx][0])\n",
    "        ax_xrd.set_title(f'Sample: {file_names[idx]}', fontsize=16)\n",
    "        ax_xrd.set_xlabel('2θ (index)')\n",
    "        ax_xrd.set_ylabel('Intensity')\n",
    "        \n",
    "        # Create subplot for phase percentages\n",
    "        ax_phases = fig.add_subplot(gs[i, 1])\n",
    "        ax_phases.axis('off')\n",
    "        \n",
    "        # Plot weight fractions for each phase\n",
    "        for j, phase in enumerate(weight_fractions.columns):\n",
    "            ax_phase = ax_phases.inset_axes([0, 0.67 - j*0.33, 1, 0.3])  # Adjusted positioning\n",
    "            \n",
    "            # Collect data for this phase\n",
    "            data = {\n",
    "                'True': weight_fractions.iloc[idx][phase],\n",
    "                'Predicted': predictions[idx][j],\n",
    "                'Laboratory': participant_data['Laboratory'].iloc[idx][phase],\n",
    "                'X-ray': participant_data['X-ray'].iloc[idx][phase],\n",
    "                'Neutron': participant_data['Neutron'].iloc[idx][phase],\n",
    "                'Synchrotron': participant_data['Synchrotron'].iloc[idx][phase]\n",
    "            }\n",
    "            \n",
    "            # Create DataFrame\n",
    "            df = pd.DataFrame(list(data.items()), columns=['Method', 'Percentage'])\n",
    "            \n",
    "            # Plot\n",
    "            sns.barplot(x='Percentage', y='Method', data=df, ax=ax_phase, \n",
    "                        hue='Method', palette=color_scheme, orient='h', legend=False)\n",
    "            \n",
    "            # Set title and labels\n",
    "            ax_phase.set_title(f'{phase} Weight Fraction', fontsize=12)\n",
    "            ax_phase.set_xlabel('Percentage')\n",
    "            \n",
    "            # Dynamically set x-axis limits\n",
    "            min_val = df['Percentage'].min()\n",
    "            max_val = df['Percentage'].max()\n",
    "            range_val = max_val - min_val\n",
    "            ax_phase.set_xlim(max(0, min_val - range_val * 0.1), \n",
    "                              min(1, max_val + range_val * 0.1))\n",
    "            \n",
    "            # Remove y-axis labels for all but the first phase plot\n",
    "            if j > 0:\n",
    "                ax_phase.set_ylabel('')\n",
    "            ax_phase.set_yticklabels(ax_phase.get_yticklabels(), fontsize=8)\n",
    "    \n",
    "    plt.tight_layout()\n",
    "    plt.show()\n",
    "\n",
    "# Use the function as before\n",
    "plot_xrd_patterns(intensities, xy_files, predictions, weight_fractions)"
   ]
  },
  {
   "cell_type": "code",
   "execution_count": null,
   "metadata": {},
   "outputs": [],
   "source": []
  }
 ],
 "metadata": {
  "kernelspec": {
   "display_name": "Python 3",
   "language": "python",
   "name": "python3"
  },
  "language_info": {
   "codemirror_mode": {
    "name": "ipython",
    "version": 3
   },
   "file_extension": ".py",
   "mimetype": "text/x-python",
   "name": "python",
   "nbconvert_exporter": "python",
   "pygments_lexer": "ipython3",
   "version": "3.10.14"
  }
 },
 "nbformat": 4,
 "nbformat_minor": 2
}
